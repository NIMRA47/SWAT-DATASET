{
  "nbformat": 4,
  "nbformat_minor": 0,
  "metadata": {
    "colab": {
      "provenance": []
    },
    "kernelspec": {
      "name": "python3",
      "display_name": "Python 3"
    },
    "language_info": {
      "name": "python"
    }
  },
  "cells": [
    {
      "cell_type": "markdown",
      "source": [],
      "metadata": {
        "id": "EliAuyBwlbyz"
      }
    },
    {
      "cell_type": "markdown",
      "source": [
        "TASK NO 1\n"
      ],
      "metadata": {
        "id": "WHzCdcDh8qKM"
      }
    },
    {
      "cell_type": "code",
      "source": [
        "backtracking with csp"
      ],
      "metadata": {
        "id": "t0FrpljnlcG7"
      },
      "execution_count": null,
      "outputs": []
    },
    {
      "cell_type": "code",
      "source": [
        "# Australian Map Coloring using Backtracking CSP\n",
        "\n",
        "# Variables (Regions)\n",
        "regions = ['WA', 'NT', 'SA', 'Q', 'NSW', 'V', 'T']\n",
        "\n",
        "# Domain: 3 colors\n",
        "colors = ['Red', 'Green', 'Blue']\n",
        "\n",
        "\n",
        "neighbors = {\n",
        "    'WA': ['NT', 'SA'],\n",
        "    'NT': ['WA', 'SA', 'Q'],\n",
        "    'SA': ['WA', 'NT', 'Q', 'NSW', 'V'],\n",
        "    'Q': ['NT', 'SA', 'NSW'],\n",
        "    'NSW': ['SA', 'Q', 'V'],\n",
        "    'V': ['SA', 'NSW'],\n",
        "    'T': []\n",
        "}\n",
        "\n",
        "# CSP Backtracking Algorithm\n",
        "def is_valid(assignment, region, color):\n",
        "    for neighbor in neighbors[region]:\n",
        "        if neighbor in assignment and assignment[neighbor] == color:\n",
        "            return False\n",
        "    return True\n",
        "\n",
        "def backtrack(assignment):\n",
        "    # Base Case: All regions are assigned\n",
        "    if len(assignment) == len(regions):\n",
        "        return assignment\n",
        "\n",
        "    # Select unassigned region\n",
        "    unassigned = [r for r in regions if r not in assignment]\n",
        "    region = unassigned[0]\n",
        "\n",
        "    for color in colors:\n",
        "        if is_valid(assignment, region, color):\n",
        "            assignment[region] = color\n",
        "            result = backtrack(assignment)\n",
        "            if result:\n",
        "                return result\n",
        "            # Backtrack\n",
        "            del assignment[region]\n",
        "\n",
        "    return None\n",
        "\n",
        "# Run the algorithm\n",
        "solution = backtrack({})\n",
        "\n",
        "# Display result\n",
        "if solution:\n",
        "    print(\"Solution found:\")\n",
        "    for region in regions:\n",
        "        print(f\"{region}: {solution[region]}\")\n",
        "else:\n",
        "    print(\"No solution found.\")\n",
        "\n",
        "\n"
      ],
      "metadata": {
        "colab": {
          "base_uri": "https://localhost:8080/"
        },
        "id": "z9l8YLSelgS2",
        "outputId": "69a4b390-3ca9-4e9b-ddd0-15af2084d5e3"
      },
      "execution_count": 3,
      "outputs": [
        {
          "output_type": "stream",
          "name": "stdout",
          "text": [
            "Solution found:\n",
            "WA: Red\n",
            "NT: Green\n",
            "SA: Blue\n",
            "Q: Red\n",
            "NSW: Green\n",
            "V: Red\n",
            "T: Red\n"
          ]
        }
      ]
    },
    {
      "cell_type": "code",
      "execution_count": null,
      "metadata": {
        "id": "qZQi7cwhlZPH"
      },
      "outputs": [],
      "source": []
    },
    {
      "cell_type": "markdown",
      "source": [
        "2ND TASK"
      ],
      "metadata": {
        "id": "nia3TvcKqYLh"
      }
    },
    {
      "cell_type": "markdown",
      "source": [],
      "metadata": {
        "id": "41LdU0RnmYIm"
      }
    },
    {
      "cell_type": "code",
      "source": [
        "from google.colab import drive\n",
        "drive.mount('/content/drive')\n",
        "import os\n",
        "os.listdir(\"/content/drive/My Drive/\")\n"
      ],
      "metadata": {
        "colab": {
          "base_uri": "https://localhost:8080/"
        },
        "id": "pQapw2_X1db9",
        "outputId": "047d4cf0-a957-40de-d968-f36dd1c1ceae"
      },
      "execution_count": 2,
      "outputs": [
        {
          "output_type": "stream",
          "name": "stdout",
          "text": [
            "Drive already mounted at /content/drive; to attempt to forcibly remount, call drive.mount(\"/content/drive\", force_remount=True).\n"
          ]
        },
        {
          "output_type": "execute_result",
          "data": {
            "text/plain": [
              "['Colab Notebooks',\n",
              " 'assignmest  first semester q2.docx',\n",
              " 'K-map (1).pdf',\n",
              " 'K-map.pdf',\n",
              " 'Precalculus Lectures  (1).pdf',\n",
              " 'Precalculus Lectures .pdf',\n",
              " 'digital-fundamentals-by-thomas-l.-floyd-8th-edition.pdf',\n",
              " 'ViewRoomInfo.class',\n",
              " 'NOW MAKE HE CORRECTED BALANCE SHEET FOR M BUSSINE....gsheet',\n",
              " 'iris.csv',\n",
              " 'Metric (PKR),Year 1,Percent,Year 2,.txt',\n",
              " 'balance sheet.txt',\n",
              " 'application of funds.txt',\n",
              " 'RWNT WAS 50 K TO 60 K.gsheet',\n",
              " 'do 2 (1).gsheet',\n",
              " 'Export it into sheets.gdoc',\n",
              " 'Untitled spreadsheet (2).gsheet',\n",
              " 'Untitled spreadsheet (1).gsheet',\n",
              " 'Untitled spreadsheet.gsheet',\n",
              " 'do 2.gsheet',\n",
              " '.ipynb_checkpoints',\n",
              " 'Social_Network_Ads.csv',\n",
              " 'SWaT_Dataset_Attack_v0.xlsx']"
            ]
          },
          "metadata": {},
          "execution_count": 2
        }
      ]
    },
    {
      "cell_type": "code",
      "source": [
        "import os\n",
        "\n",
        "# Check if the file exists\n",
        "file_path = \"/content/drive/My Drive/SWaT_Dataset_Attack_v0.xlsx\"\n",
        "print(os.path.exists(file_path))  # This should return True\n",
        "\n",
        "\n"
      ],
      "metadata": {
        "colab": {
          "base_uri": "https://localhost:8080/"
        },
        "id": "m-8wzn-z3y06",
        "outputId": "8b4e1e4a-5f1a-4863-b860-8a183cfe26ee"
      },
      "execution_count": 6,
      "outputs": [
        {
          "output_type": "stream",
          "name": "stdout",
          "text": [
            "True\n"
          ]
        }
      ]
    },
    {
      "cell_type": "code",
      "source": [
        "from google.colab import files\n",
        "uploaded = files.upload()\n"
      ],
      "metadata": {
        "colab": {
          "base_uri": "https://localhost:8080/",
          "height": 73
        },
        "id": "6Lx0dgLO4TXD",
        "outputId": "2e14e8d8-7010-44b6-a535-f48264d77d57"
      },
      "execution_count": 12,
      "outputs": [
        {
          "output_type": "display_data",
          "data": {
            "text/plain": [
              "<IPython.core.display.HTML object>"
            ],
            "text/html": [
              "\n",
              "     <input type=\"file\" id=\"files-5525dbe5-9b9e-4a1f-a8ab-4fac1c8956af\" name=\"files[]\" multiple disabled\n",
              "        style=\"border:none\" />\n",
              "     <output id=\"result-5525dbe5-9b9e-4a1f-a8ab-4fac1c8956af\">\n",
              "      Upload widget is only available when the cell has been executed in the\n",
              "      current browser session. Please rerun this cell to enable.\n",
              "      </output>\n",
              "      <script>// Copyright 2017 Google LLC\n",
              "//\n",
              "// Licensed under the Apache License, Version 2.0 (the \"License\");\n",
              "// you may not use this file except in compliance with the License.\n",
              "// You may obtain a copy of the License at\n",
              "//\n",
              "//      http://www.apache.org/licenses/LICENSE-2.0\n",
              "//\n",
              "// Unless required by applicable law or agreed to in writing, software\n",
              "// distributed under the License is distributed on an \"AS IS\" BASIS,\n",
              "// WITHOUT WARRANTIES OR CONDITIONS OF ANY KIND, either express or implied.\n",
              "// See the License for the specific language governing permissions and\n",
              "// limitations under the License.\n",
              "\n",
              "/**\n",
              " * @fileoverview Helpers for google.colab Python module.\n",
              " */\n",
              "(function(scope) {\n",
              "function span(text, styleAttributes = {}) {\n",
              "  const element = document.createElement('span');\n",
              "  element.textContent = text;\n",
              "  for (const key of Object.keys(styleAttributes)) {\n",
              "    element.style[key] = styleAttributes[key];\n",
              "  }\n",
              "  return element;\n",
              "}\n",
              "\n",
              "// Max number of bytes which will be uploaded at a time.\n",
              "const MAX_PAYLOAD_SIZE = 100 * 1024;\n",
              "\n",
              "function _uploadFiles(inputId, outputId) {\n",
              "  const steps = uploadFilesStep(inputId, outputId);\n",
              "  const outputElement = document.getElementById(outputId);\n",
              "  // Cache steps on the outputElement to make it available for the next call\n",
              "  // to uploadFilesContinue from Python.\n",
              "  outputElement.steps = steps;\n",
              "\n",
              "  return _uploadFilesContinue(outputId);\n",
              "}\n",
              "\n",
              "// This is roughly an async generator (not supported in the browser yet),\n",
              "// where there are multiple asynchronous steps and the Python side is going\n",
              "// to poll for completion of each step.\n",
              "// This uses a Promise to block the python side on completion of each step,\n",
              "// then passes the result of the previous step as the input to the next step.\n",
              "function _uploadFilesContinue(outputId) {\n",
              "  const outputElement = document.getElementById(outputId);\n",
              "  const steps = outputElement.steps;\n",
              "\n",
              "  const next = steps.next(outputElement.lastPromiseValue);\n",
              "  return Promise.resolve(next.value.promise).then((value) => {\n",
              "    // Cache the last promise value to make it available to the next\n",
              "    // step of the generator.\n",
              "    outputElement.lastPromiseValue = value;\n",
              "    return next.value.response;\n",
              "  });\n",
              "}\n",
              "\n",
              "/**\n",
              " * Generator function which is called between each async step of the upload\n",
              " * process.\n",
              " * @param {string} inputId Element ID of the input file picker element.\n",
              " * @param {string} outputId Element ID of the output display.\n",
              " * @return {!Iterable<!Object>} Iterable of next steps.\n",
              " */\n",
              "function* uploadFilesStep(inputId, outputId) {\n",
              "  const inputElement = document.getElementById(inputId);\n",
              "  inputElement.disabled = false;\n",
              "\n",
              "  const outputElement = document.getElementById(outputId);\n",
              "  outputElement.innerHTML = '';\n",
              "\n",
              "  const pickedPromise = new Promise((resolve) => {\n",
              "    inputElement.addEventListener('change', (e) => {\n",
              "      resolve(e.target.files);\n",
              "    });\n",
              "  });\n",
              "\n",
              "  const cancel = document.createElement('button');\n",
              "  inputElement.parentElement.appendChild(cancel);\n",
              "  cancel.textContent = 'Cancel upload';\n",
              "  const cancelPromise = new Promise((resolve) => {\n",
              "    cancel.onclick = () => {\n",
              "      resolve(null);\n",
              "    };\n",
              "  });\n",
              "\n",
              "  // Wait for the user to pick the files.\n",
              "  const files = yield {\n",
              "    promise: Promise.race([pickedPromise, cancelPromise]),\n",
              "    response: {\n",
              "      action: 'starting',\n",
              "    }\n",
              "  };\n",
              "\n",
              "  cancel.remove();\n",
              "\n",
              "  // Disable the input element since further picks are not allowed.\n",
              "  inputElement.disabled = true;\n",
              "\n",
              "  if (!files) {\n",
              "    return {\n",
              "      response: {\n",
              "        action: 'complete',\n",
              "      }\n",
              "    };\n",
              "  }\n",
              "\n",
              "  for (const file of files) {\n",
              "    const li = document.createElement('li');\n",
              "    li.append(span(file.name, {fontWeight: 'bold'}));\n",
              "    li.append(span(\n",
              "        `(${file.type || 'n/a'}) - ${file.size} bytes, ` +\n",
              "        `last modified: ${\n",
              "            file.lastModifiedDate ? file.lastModifiedDate.toLocaleDateString() :\n",
              "                                    'n/a'} - `));\n",
              "    const percent = span('0% done');\n",
              "    li.appendChild(percent);\n",
              "\n",
              "    outputElement.appendChild(li);\n",
              "\n",
              "    const fileDataPromise = new Promise((resolve) => {\n",
              "      const reader = new FileReader();\n",
              "      reader.onload = (e) => {\n",
              "        resolve(e.target.result);\n",
              "      };\n",
              "      reader.readAsArrayBuffer(file);\n",
              "    });\n",
              "    // Wait for the data to be ready.\n",
              "    let fileData = yield {\n",
              "      promise: fileDataPromise,\n",
              "      response: {\n",
              "        action: 'continue',\n",
              "      }\n",
              "    };\n",
              "\n",
              "    // Use a chunked sending to avoid message size limits. See b/62115660.\n",
              "    let position = 0;\n",
              "    do {\n",
              "      const length = Math.min(fileData.byteLength - position, MAX_PAYLOAD_SIZE);\n",
              "      const chunk = new Uint8Array(fileData, position, length);\n",
              "      position += length;\n",
              "\n",
              "      const base64 = btoa(String.fromCharCode.apply(null, chunk));\n",
              "      yield {\n",
              "        response: {\n",
              "          action: 'append',\n",
              "          file: file.name,\n",
              "          data: base64,\n",
              "        },\n",
              "      };\n",
              "\n",
              "      let percentDone = fileData.byteLength === 0 ?\n",
              "          100 :\n",
              "          Math.round((position / fileData.byteLength) * 100);\n",
              "      percent.textContent = `${percentDone}% done`;\n",
              "\n",
              "    } while (position < fileData.byteLength);\n",
              "  }\n",
              "\n",
              "  // All done.\n",
              "  yield {\n",
              "    response: {\n",
              "      action: 'complete',\n",
              "    }\n",
              "  };\n",
              "}\n",
              "\n",
              "scope.google = scope.google || {};\n",
              "scope.google.colab = scope.google.colab || {};\n",
              "scope.google.colab._files = {\n",
              "  _uploadFiles,\n",
              "  _uploadFilesContinue,\n",
              "};\n",
              "})(self);\n",
              "</script> "
            ]
          },
          "metadata": {}
        },
        {
          "output_type": "stream",
          "name": "stdout",
          "text": [
            "Saving SWaT_MiniDataset.csv to SWaT_MiniDataset.csv\n"
          ]
        }
      ]
    },
    {
      "cell_type": "code",
      "source": [
        "import pandas as pd\n",
        "\n",
        "df = pd.read_csv(\"SWaT_MiniDataset.csv\")\n",
        "df.head()\n"
      ],
      "metadata": {
        "colab": {
          "base_uri": "https://localhost:8080/",
          "height": 206
        },
        "id": "hAeI-6th6O5w",
        "outputId": "cc988da6-9273-4910-d84b-0c21aa0394fb"
      },
      "execution_count": 13,
      "outputs": [
        {
          "output_type": "execute_result",
          "data": {
            "text/plain": [
              "     FIT101      LIT101  MV101       P101       P102    AIT202 Normal/Attack\n",
              "0  4.753198  543.741105      1  31.024124  31.238221  7.253380        Normal\n",
              "1  7.482920  613.654868      1  56.989633  44.085865  6.782428        Attack\n",
              "2  1.001029  657.188308      0  35.479569  35.858508  6.868577        Normal\n",
              "3  3.720993  587.382938      1  39.715235  45.120929  6.792727        Normal\n",
              "4  2.320803  803.547081      1  30.177524  32.025292  6.913691        Attack"
            ],
            "text/html": [
              "\n",
              "  <div id=\"df-e9ac6acd-28b2-46f9-8bee-ed7249340a32\" class=\"colab-df-container\">\n",
              "    <div>\n",
              "<style scoped>\n",
              "    .dataframe tbody tr th:only-of-type {\n",
              "        vertical-align: middle;\n",
              "    }\n",
              "\n",
              "    .dataframe tbody tr th {\n",
              "        vertical-align: top;\n",
              "    }\n",
              "\n",
              "    .dataframe thead th {\n",
              "        text-align: right;\n",
              "    }\n",
              "</style>\n",
              "<table border=\"1\" class=\"dataframe\">\n",
              "  <thead>\n",
              "    <tr style=\"text-align: right;\">\n",
              "      <th></th>\n",
              "      <th>FIT101</th>\n",
              "      <th>LIT101</th>\n",
              "      <th>MV101</th>\n",
              "      <th>P101</th>\n",
              "      <th>P102</th>\n",
              "      <th>AIT202</th>\n",
              "      <th>Normal/Attack</th>\n",
              "    </tr>\n",
              "  </thead>\n",
              "  <tbody>\n",
              "    <tr>\n",
              "      <th>0</th>\n",
              "      <td>4.753198</td>\n",
              "      <td>543.741105</td>\n",
              "      <td>1</td>\n",
              "      <td>31.024124</td>\n",
              "      <td>31.238221</td>\n",
              "      <td>7.253380</td>\n",
              "      <td>Normal</td>\n",
              "    </tr>\n",
              "    <tr>\n",
              "      <th>1</th>\n",
              "      <td>7.482920</td>\n",
              "      <td>613.654868</td>\n",
              "      <td>1</td>\n",
              "      <td>56.989633</td>\n",
              "      <td>44.085865</td>\n",
              "      <td>6.782428</td>\n",
              "      <td>Attack</td>\n",
              "    </tr>\n",
              "    <tr>\n",
              "      <th>2</th>\n",
              "      <td>1.001029</td>\n",
              "      <td>657.188308</td>\n",
              "      <td>0</td>\n",
              "      <td>35.479569</td>\n",
              "      <td>35.858508</td>\n",
              "      <td>6.868577</td>\n",
              "      <td>Normal</td>\n",
              "    </tr>\n",
              "    <tr>\n",
              "      <th>3</th>\n",
              "      <td>3.720993</td>\n",
              "      <td>587.382938</td>\n",
              "      <td>1</td>\n",
              "      <td>39.715235</td>\n",
              "      <td>45.120929</td>\n",
              "      <td>6.792727</td>\n",
              "      <td>Normal</td>\n",
              "    </tr>\n",
              "    <tr>\n",
              "      <th>4</th>\n",
              "      <td>2.320803</td>\n",
              "      <td>803.547081</td>\n",
              "      <td>1</td>\n",
              "      <td>30.177524</td>\n",
              "      <td>32.025292</td>\n",
              "      <td>6.913691</td>\n",
              "      <td>Attack</td>\n",
              "    </tr>\n",
              "  </tbody>\n",
              "</table>\n",
              "</div>\n",
              "    <div class=\"colab-df-buttons\">\n",
              "\n",
              "  <div class=\"colab-df-container\">\n",
              "    <button class=\"colab-df-convert\" onclick=\"convertToInteractive('df-e9ac6acd-28b2-46f9-8bee-ed7249340a32')\"\n",
              "            title=\"Convert this dataframe to an interactive table.\"\n",
              "            style=\"display:none;\">\n",
              "\n",
              "  <svg xmlns=\"http://www.w3.org/2000/svg\" height=\"24px\" viewBox=\"0 -960 960 960\">\n",
              "    <path d=\"M120-120v-720h720v720H120Zm60-500h600v-160H180v160Zm220 220h160v-160H400v160Zm0 220h160v-160H400v160ZM180-400h160v-160H180v160Zm440 0h160v-160H620v160ZM180-180h160v-160H180v160Zm440 0h160v-160H620v160Z\"/>\n",
              "  </svg>\n",
              "    </button>\n",
              "\n",
              "  <style>\n",
              "    .colab-df-container {\n",
              "      display:flex;\n",
              "      gap: 12px;\n",
              "    }\n",
              "\n",
              "    .colab-df-convert {\n",
              "      background-color: #E8F0FE;\n",
              "      border: none;\n",
              "      border-radius: 50%;\n",
              "      cursor: pointer;\n",
              "      display: none;\n",
              "      fill: #1967D2;\n",
              "      height: 32px;\n",
              "      padding: 0 0 0 0;\n",
              "      width: 32px;\n",
              "    }\n",
              "\n",
              "    .colab-df-convert:hover {\n",
              "      background-color: #E2EBFA;\n",
              "      box-shadow: 0px 1px 2px rgba(60, 64, 67, 0.3), 0px 1px 3px 1px rgba(60, 64, 67, 0.15);\n",
              "      fill: #174EA6;\n",
              "    }\n",
              "\n",
              "    .colab-df-buttons div {\n",
              "      margin-bottom: 4px;\n",
              "    }\n",
              "\n",
              "    [theme=dark] .colab-df-convert {\n",
              "      background-color: #3B4455;\n",
              "      fill: #D2E3FC;\n",
              "    }\n",
              "\n",
              "    [theme=dark] .colab-df-convert:hover {\n",
              "      background-color: #434B5C;\n",
              "      box-shadow: 0px 1px 3px 1px rgba(0, 0, 0, 0.15);\n",
              "      filter: drop-shadow(0px 1px 2px rgba(0, 0, 0, 0.3));\n",
              "      fill: #FFFFFF;\n",
              "    }\n",
              "  </style>\n",
              "\n",
              "    <script>\n",
              "      const buttonEl =\n",
              "        document.querySelector('#df-e9ac6acd-28b2-46f9-8bee-ed7249340a32 button.colab-df-convert');\n",
              "      buttonEl.style.display =\n",
              "        google.colab.kernel.accessAllowed ? 'block' : 'none';\n",
              "\n",
              "      async function convertToInteractive(key) {\n",
              "        const element = document.querySelector('#df-e9ac6acd-28b2-46f9-8bee-ed7249340a32');\n",
              "        const dataTable =\n",
              "          await google.colab.kernel.invokeFunction('convertToInteractive',\n",
              "                                                    [key], {});\n",
              "        if (!dataTable) return;\n",
              "\n",
              "        const docLinkHtml = 'Like what you see? Visit the ' +\n",
              "          '<a target=\"_blank\" href=https://colab.research.google.com/notebooks/data_table.ipynb>data table notebook</a>'\n",
              "          + ' to learn more about interactive tables.';\n",
              "        element.innerHTML = '';\n",
              "        dataTable['output_type'] = 'display_data';\n",
              "        await google.colab.output.renderOutput(dataTable, element);\n",
              "        const docLink = document.createElement('div');\n",
              "        docLink.innerHTML = docLinkHtml;\n",
              "        element.appendChild(docLink);\n",
              "      }\n",
              "    </script>\n",
              "  </div>\n",
              "\n",
              "\n",
              "    <div id=\"df-2c8594a4-993d-4c74-8075-bb661a3f1e01\">\n",
              "      <button class=\"colab-df-quickchart\" onclick=\"quickchart('df-2c8594a4-993d-4c74-8075-bb661a3f1e01')\"\n",
              "                title=\"Suggest charts\"\n",
              "                style=\"display:none;\">\n",
              "\n",
              "<svg xmlns=\"http://www.w3.org/2000/svg\" height=\"24px\"viewBox=\"0 0 24 24\"\n",
              "     width=\"24px\">\n",
              "    <g>\n",
              "        <path d=\"M19 3H5c-1.1 0-2 .9-2 2v14c0 1.1.9 2 2 2h14c1.1 0 2-.9 2-2V5c0-1.1-.9-2-2-2zM9 17H7v-7h2v7zm4 0h-2V7h2v10zm4 0h-2v-4h2v4z\"/>\n",
              "    </g>\n",
              "</svg>\n",
              "      </button>\n",
              "\n",
              "<style>\n",
              "  .colab-df-quickchart {\n",
              "      --bg-color: #E8F0FE;\n",
              "      --fill-color: #1967D2;\n",
              "      --hover-bg-color: #E2EBFA;\n",
              "      --hover-fill-color: #174EA6;\n",
              "      --disabled-fill-color: #AAA;\n",
              "      --disabled-bg-color: #DDD;\n",
              "  }\n",
              "\n",
              "  [theme=dark] .colab-df-quickchart {\n",
              "      --bg-color: #3B4455;\n",
              "      --fill-color: #D2E3FC;\n",
              "      --hover-bg-color: #434B5C;\n",
              "      --hover-fill-color: #FFFFFF;\n",
              "      --disabled-bg-color: #3B4455;\n",
              "      --disabled-fill-color: #666;\n",
              "  }\n",
              "\n",
              "  .colab-df-quickchart {\n",
              "    background-color: var(--bg-color);\n",
              "    border: none;\n",
              "    border-radius: 50%;\n",
              "    cursor: pointer;\n",
              "    display: none;\n",
              "    fill: var(--fill-color);\n",
              "    height: 32px;\n",
              "    padding: 0;\n",
              "    width: 32px;\n",
              "  }\n",
              "\n",
              "  .colab-df-quickchart:hover {\n",
              "    background-color: var(--hover-bg-color);\n",
              "    box-shadow: 0 1px 2px rgba(60, 64, 67, 0.3), 0 1px 3px 1px rgba(60, 64, 67, 0.15);\n",
              "    fill: var(--button-hover-fill-color);\n",
              "  }\n",
              "\n",
              "  .colab-df-quickchart-complete:disabled,\n",
              "  .colab-df-quickchart-complete:disabled:hover {\n",
              "    background-color: var(--disabled-bg-color);\n",
              "    fill: var(--disabled-fill-color);\n",
              "    box-shadow: none;\n",
              "  }\n",
              "\n",
              "  .colab-df-spinner {\n",
              "    border: 2px solid var(--fill-color);\n",
              "    border-color: transparent;\n",
              "    border-bottom-color: var(--fill-color);\n",
              "    animation:\n",
              "      spin 1s steps(1) infinite;\n",
              "  }\n",
              "\n",
              "  @keyframes spin {\n",
              "    0% {\n",
              "      border-color: transparent;\n",
              "      border-bottom-color: var(--fill-color);\n",
              "      border-left-color: var(--fill-color);\n",
              "    }\n",
              "    20% {\n",
              "      border-color: transparent;\n",
              "      border-left-color: var(--fill-color);\n",
              "      border-top-color: var(--fill-color);\n",
              "    }\n",
              "    30% {\n",
              "      border-color: transparent;\n",
              "      border-left-color: var(--fill-color);\n",
              "      border-top-color: var(--fill-color);\n",
              "      border-right-color: var(--fill-color);\n",
              "    }\n",
              "    40% {\n",
              "      border-color: transparent;\n",
              "      border-right-color: var(--fill-color);\n",
              "      border-top-color: var(--fill-color);\n",
              "    }\n",
              "    60% {\n",
              "      border-color: transparent;\n",
              "      border-right-color: var(--fill-color);\n",
              "    }\n",
              "    80% {\n",
              "      border-color: transparent;\n",
              "      border-right-color: var(--fill-color);\n",
              "      border-bottom-color: var(--fill-color);\n",
              "    }\n",
              "    90% {\n",
              "      border-color: transparent;\n",
              "      border-bottom-color: var(--fill-color);\n",
              "    }\n",
              "  }\n",
              "</style>\n",
              "\n",
              "      <script>\n",
              "        async function quickchart(key) {\n",
              "          const quickchartButtonEl =\n",
              "            document.querySelector('#' + key + ' button');\n",
              "          quickchartButtonEl.disabled = true;  // To prevent multiple clicks.\n",
              "          quickchartButtonEl.classList.add('colab-df-spinner');\n",
              "          try {\n",
              "            const charts = await google.colab.kernel.invokeFunction(\n",
              "                'suggestCharts', [key], {});\n",
              "          } catch (error) {\n",
              "            console.error('Error during call to suggestCharts:', error);\n",
              "          }\n",
              "          quickchartButtonEl.classList.remove('colab-df-spinner');\n",
              "          quickchartButtonEl.classList.add('colab-df-quickchart-complete');\n",
              "        }\n",
              "        (() => {\n",
              "          let quickchartButtonEl =\n",
              "            document.querySelector('#df-2c8594a4-993d-4c74-8075-bb661a3f1e01 button');\n",
              "          quickchartButtonEl.style.display =\n",
              "            google.colab.kernel.accessAllowed ? 'block' : 'none';\n",
              "        })();\n",
              "      </script>\n",
              "    </div>\n",
              "\n",
              "    </div>\n",
              "  </div>\n"
            ],
            "application/vnd.google.colaboratory.intrinsic+json": {
              "type": "dataframe",
              "variable_name": "df",
              "summary": "{\n  \"name\": \"df\",\n  \"rows\": 500,\n  \"fields\": [\n    {\n      \"column\": \"FIT101\",\n      \"properties\": {\n        \"dtype\": \"number\",\n        \"std\": 2.671443945307051,\n        \"min\": 1.001029373356104,\n        \"max\": 9.975905654063324,\n        \"num_unique_values\": 500,\n        \"samples\": [\n          2.2870524543228945,\n          8.266521598385715,\n          1.2735972093590997\n        ],\n        \"semantic_type\": \"\",\n        \"description\": \"\"\n      }\n    },\n    {\n      \"column\": \"LIT101\",\n      \"properties\": {\n        \"dtype\": \"number\",\n        \"std\": 140.00689920714942,\n        \"min\": 501.55642891259606,\n        \"max\": 998.376712604105,\n        \"num_unique_values\": 500,\n        \"samples\": [\n          734.332918830626,\n          824.577098556239,\n          811.8352054988509\n        ],\n        \"semantic_type\": \"\",\n        \"description\": \"\"\n      }\n    },\n    {\n      \"column\": \"MV101\",\n      \"properties\": {\n        \"dtype\": \"number\",\n        \"std\": 0,\n        \"min\": 0,\n        \"max\": 1,\n        \"num_unique_values\": 2,\n        \"samples\": [\n          0,\n          1\n        ],\n        \"semantic_type\": \"\",\n        \"description\": \"\"\n      }\n    },\n    {\n      \"column\": \"P101\",\n      \"properties\": {\n        \"dtype\": \"number\",\n        \"std\": 11.958279788159494,\n        \"min\": 20.041317306309384,\n        \"max\": 59.94082028359224,\n        \"num_unique_values\": 500,\n        \"samples\": [\n          44.380077030939866,\n          26.69767430026085\n        ],\n        \"semantic_type\": \"\",\n        \"description\": \"\"\n      }\n    },\n    {\n      \"column\": \"P102\",\n      \"properties\": {\n        \"dtype\": \"number\",\n        \"std\": 10.978453373905298,\n        \"min\": 20.10030238671693,\n        \"max\": 59.9439635434592,\n        \"num_unique_values\": 500,\n        \"samples\": [\n          25.04313921588794,\n          20.14219041857704\n        ],\n        \"semantic_type\": \"\",\n        \"description\": \"\"\n      }\n    },\n    {\n      \"column\": \"AIT202\",\n      \"properties\": {\n        \"dtype\": \"number\",\n        \"std\": 0.2848539865914489,\n        \"min\": 6.50196364538252,\n        \"max\": 7.499875787574262,\n        \"num_unique_values\": 500,\n        \"samples\": [\n          6.631871690728441,\n          6.795725534423881\n        ],\n        \"semantic_type\": \"\",\n        \"description\": \"\"\n      }\n    },\n    {\n      \"column\": \"Normal/Attack\",\n      \"properties\": {\n        \"dtype\": \"category\",\n        \"num_unique_values\": 2,\n        \"samples\": [\n          \"Attack\",\n          \"Normal\"\n        ],\n        \"semantic_type\": \"\",\n        \"description\": \"\"\n      }\n    }\n  ]\n}"
            }
          },
          "metadata": {},
          "execution_count": 13
        }
      ]
    },
    {
      "cell_type": "markdown",
      "source": [
        "Exploratory Data Analysis (EDA)"
      ],
      "metadata": {
        "id": "sYEKASRo6cAe"
      }
    },
    {
      "cell_type": "code",
      "source": [
        "# Basic info\n",
        "print(df.shape)\n",
        "print(df.info())\n",
        "\n",
        "# Check for missing values\n",
        "print(\"Missing values per column:\")\n",
        "print(df.isnull().sum())\n",
        "\n",
        "# Statistical summary\n",
        "print(df.describe())\n",
        "\n",
        "# Plot a few sensors\n",
        "import matplotlib.pyplot as plt\n",
        "\n",
        "df[['FIT101', 'LIT101', 'P101']].head(200).plot(figsize=(10, 5))\n",
        "plt.title(\"Sample Sensor Readings\")\n",
        "plt.xlabel(\"Time Steps\")\n",
        "plt.ylabel(\"Values\")\n",
        "plt.grid(True)\n",
        "plt.show()\n"
      ],
      "metadata": {
        "colab": {
          "base_uri": "https://localhost:8080/",
          "height": 995
        },
        "id": "LWnviK4A6cyC",
        "outputId": "7e25e69a-40af-4808-adf5-7fcc110c8850"
      },
      "execution_count": 14,
      "outputs": [
        {
          "output_type": "stream",
          "name": "stdout",
          "text": [
            "(500, 7)\n",
            "<class 'pandas.core.frame.DataFrame'>\n",
            "RangeIndex: 500 entries, 0 to 499\n",
            "Data columns (total 7 columns):\n",
            " #   Column         Non-Null Count  Dtype  \n",
            "---  ------         --------------  -----  \n",
            " 0   FIT101         500 non-null    float64\n",
            " 1   LIT101         500 non-null    float64\n",
            " 2   MV101          500 non-null    int64  \n",
            " 3   P101           500 non-null    float64\n",
            " 4   P102           500 non-null    float64\n",
            " 5   AIT202         500 non-null    float64\n",
            " 6   Normal/Attack  500 non-null    object \n",
            "dtypes: float64(5), int64(1), object(1)\n",
            "memory usage: 27.5+ KB\n",
            "None\n",
            "Missing values per column:\n",
            "FIT101           0\n",
            "LIT101           0\n",
            "MV101            0\n",
            "P101             0\n",
            "P102             0\n",
            "AIT202           0\n",
            "Normal/Attack    0\n",
            "dtype: int64\n",
            "           FIT101      LIT101       MV101        P101        P102      AIT202\n",
            "count  500.000000  500.000000  500.000000  500.000000  500.000000  500.000000\n",
            "mean     5.574494  746.466039    0.484000   40.753324   39.951177    6.987741\n",
            "std      2.671444  140.006899    0.500244   11.958280   10.978453    0.284854\n",
            "min      1.001029  501.556429    0.000000   20.041317   20.100302    6.501964\n",
            "25%      3.244568  626.527648    0.000000   30.245837   30.140375    6.751857\n",
            "50%      5.800684  744.371613    0.000000   41.233009   39.988687    6.985881\n",
            "75%      7.904964  864.755996    1.000000   51.524273   49.090141    7.235014\n",
            "max      9.975906  998.376713    1.000000   59.940820   59.943964    7.499876\n"
          ]
        },
        {
          "output_type": "display_data",
          "data": {
            "text/plain": [
              "<Figure size 1000x500 with 1 Axes>"
            ],
            "image/png": "[encoded data removed]"
          },
          "metadata": {}
        }
      ]
    },
    {
      "cell_type": "markdown",
      "source": [
        " Preprocessing"
      ],
      "metadata": {
        "id": "DbUT6Tok6hwE"
      }
    },
    {
      "cell_type": "code",
      "source": [
        "# Convert 'Normal/Attack' to 0 and 1\n",
        "df['Label'] = df['Normal/Attack'].map({'Normal': 0, 'Attack': 1})\n",
        "df.drop('Normal/Attack', axis=1, inplace=True)\n"
      ],
      "metadata": {
        "id": "iRK4OkNH6oXA"
      },
      "execution_count": 15,
      "outputs": []
    },
    {
      "cell_type": "markdown",
      "source": [
        "Normalize Features"
      ],
      "metadata": {
        "id": "eKTygOYB6vgY"
      }
    },
    {
      "cell_type": "code",
      "source": [
        "from sklearn.preprocessing import MinMaxScaler\n",
        "\n",
        "# Separate features and label\n",
        "features = df.drop('Label', axis=1)\n",
        "labels = df['Label']\n",
        "\n",
        "# Apply Min-Max Scaling\n",
        "scaler = MinMaxScaler()\n",
        "X_scaled = scaler.fit_transform(features)\n"
      ],
      "metadata": {
        "id": "xSIEij2x6wLz"
      },
      "execution_count": 16,
      "outputs": []
    },
    {
      "cell_type": "markdown",
      "source": [
        "Train a KNN Model and Evaluate"
      ],
      "metadata": {
        "id": "-8L2qHXY7O05"
      }
    },
    {
      "cell_type": "code",
      "source": [
        "from sklearn.model_selection import train_test_split\n",
        "from sklearn.neighbors import KNeighborsClassifier\n",
        "from sklearn.metrics import accuracy_score, precision_score, recall_score, f1_score, confusion_matrix\n",
        "\n",
        "# Train-test split\n",
        "X_train, X_test, y_train, y_test = train_test_split(X_scaled, labels, test_size=0.2, random_state=42)\n",
        "\n",
        "# Train KNN\n",
        "knn = KNeighborsClassifier(n_neighbors=3)\n",
        "knn.fit(X_train, y_train)\n",
        "\n",
        "# Predict\n",
        "y_pred = knn.predict(X_test)\n",
        "\n",
        "# Evaluation\n",
        "print(\"Accuracy:\", accuracy_score(y_test, y_pred))\n",
        "print(\"Precision:\", precision_score(y_test, y_pred))\n",
        "print(\"Recall:\", recall_score(y_test, y_pred))\n",
        "print(\"F1 Score:\", f1_score(y_test, y_pred))\n",
        "print(\"Confusion Matrix:\\n\", confusion_matrix(y_test, y_pred))\n"
      ],
      "metadata": {
        "colab": {
          "base_uri": "https://localhost:8080/"
        },
        "id": "DjVtFK4A7P6T",
        "outputId": "2b099e4c-3a21-4e84-b83e-d87b4187f495"
      },
      "execution_count": 17,
      "outputs": [
        {
          "output_type": "stream",
          "name": "stdout",
          "text": [
            "Accuracy: 0.75\n",
            "Precision: 0.1\n",
            "Recall: 0.058823529411764705\n",
            "F1 Score: 0.07407407407407407\n",
            "Confusion Matrix:\n",
            " [[74  9]\n",
            " [16  1]]\n"
          ]
        }
      ]
    },
    {
      "cell_type": "markdown",
      "source": [
        "Decision Tree for Comparison"
      ],
      "metadata": {
        "id": "ppXX7EVE7Z31"
      }
    },
    {
      "cell_type": "code",
      "source": [
        "from sklearn.tree import DecisionTreeClassifier\n",
        "\n",
        "dt = DecisionTreeClassifier(random_state=0)\n",
        "dt.fit(X_train, y_train)\n",
        "\n",
        "y_pred_dt = dt.predict(X_test)\n",
        "\n",
        "print(\"\\n--- Decision Tree ---\")\n",
        "print(\"Accuracy:\", accuracy_score(y_test, y_pred_dt))\n",
        "print(\"Precision:\", precision_score(y_test, y_pred_dt))\n",
        "print(\"Recall:\", recall_score(y_test, y_pred_dt))\n",
        "print(\"F1 Score:\", f1_score(y_test, y_pred_dt))\n"
      ],
      "metadata": {
        "colab": {
          "base_uri": "https://localhost:8080/"
        },
        "id": "LOUp7-ci7azy",
        "outputId": "a4dff1bb-2033-4017-a76b-dbb2eb93875a"
      },
      "execution_count": 18,
      "outputs": [
        {
          "output_type": "stream",
          "name": "stdout",
          "text": [
            "\n",
            "--- Decision Tree ---\n",
            "Accuracy: 0.73\n",
            "Precision: 0.2222222222222222\n",
            "Recall: 0.23529411764705882\n",
            "F1 Score: 0.22857142857142856\n"
          ]
        }
      ]
    },
    {
      "cell_type": "markdown",
      "source": [
        "TASK NO 3"
      ],
      "metadata": {
        "id": "m3hJ_XeO7ic5"
      }
    },
    {
      "cell_type": "code",
      "source": [
        "from sklearn.model_selection import train_test_split\n",
        "from sklearn.neighbors import KNeighborsClassifier\n",
        "from sklearn.metrics import (\n",
        "    accuracy_score,\n",
        "    precision_score,\n",
        "    recall_score,\n",
        "    f1_score,\n",
        "    confusion_matrix,\n",
        "    mean_squared_error\n",
        ")\n",
        "\n",
        "# Separate features and label\n",
        "X = df.drop('Label', axis=1)\n",
        "y = df['Label']\n",
        "\n",
        "# Split into training and test sets\n",
        "X_train, X_test, y_train, y_test = train_test_split(\n",
        "    X, y, test_size=0.2, random_state=42)\n",
        "\n",
        "# Initialize and train the KNN model\n",
        "knn = KNeighborsClassifier(n_neighbors=3)\n",
        "knn.fit(X_train, y_train)\n",
        "\n",
        "# Predict\n",
        "y_pred = knn.predict(X_test)\n",
        "\n",
        "# Evaluation metrics\n",
        "accuracy = accuracy_score(y_test, y_pred)\n",
        "precision = precision_score(y_test, y_pred)\n",
        "recall = recall_score(y_test, y_pred)\n",
        "f1 = f1_score(y_test, y_pred)\n",
        "mse = mean_squared_error(y_test, y_pred)\n",
        "conf_matrix = confusion_matrix(y_test, y_pred)\n",
        "\n",
        "# Print results\n",
        "print(\" KNN Model Evaluation:\")\n",
        "print(f\"Accuracy         : {accuracy:.4f}\")\n",
        "print(f\"Precision        : {precision:.4f}\")\n",
        "print(f\"Recall           : {recall:.4f}\")\n",
        "print(f\"F1-Score         : {f1:.4f}\")\n",
        "print(f\"Mean Squared Err : {mse:.4f}\")\n",
        "print(\"Confusion Matrix:\\n\", conf_matrix)\n"
      ],
      "metadata": {
        "colab": {
          "base_uri": "https://localhost:8080/"
        },
        "id": "_37nEGEQ73bi",
        "outputId": "716e0e7a-43fc-4ebb-b6a2-d30e4bb68150"
      },
      "execution_count": 20,
      "outputs": [
        {
          "output_type": "stream",
          "name": "stdout",
          "text": [
            " KNN Model Evaluation:\n",
            "Accuracy         : 0.7800\n",
            "Precision        : 0.2727\n",
            "Recall           : 0.1765\n",
            "F1-Score         : 0.2143\n",
            "Mean Squared Err : 0.2200\n",
            "Confusion Matrix:\n",
            " [[75  8]\n",
            " [14  3]]\n"
          ]
        }
      ]
    },
    {
      "cell_type": "markdown",
      "source": [
        "task no 4"
      ],
      "metadata": {
        "id": "0SXPEVd38Uto"
      }
    },
    {
      "cell_type": "markdown",
      "source": [
        " Train a Second Model – Decision Tree"
      ],
      "metadata": {
        "id": "BwiuQ-1P8cHd"
      }
    },
    {
      "cell_type": "code",
      "source": [
        "from sklearn.tree import DecisionTreeClassifier\n",
        "\n",
        "# Train a Decision Tree model\n",
        "dt = DecisionTreeClassifier(random_state=42)\n",
        "dt.fit(X_train, y_train)\n",
        "\n",
        "# Predict\n",
        "y_pred_dt = dt.predict(X_test)\n",
        "\n",
        "# Evaluate\n",
        "accuracy_dt = accuracy_score(y_test, y_pred_dt)\n",
        "precision_dt = precision_score(y_test, y_pred_dt)\n",
        "recall_dt = recall_score(y_test, y_pred_dt)\n",
        "f1_dt = f1_score(y_test, y_pred_dt)\n",
        "mse_dt = mean_squared_error(y_test, y_pred_dt)\n",
        "conf_matrix_dt = confusion_matrix(y_test, y_pred_dt)\n",
        "\n",
        "print(\"\\n Decision Tree Model Evaluation:\")\n",
        "print(f\"Accuracy         : {accuracy_dt:.4f}\")\n",
        "print(f\"Precision        : {precision_dt:.4f}\")\n",
        "print(f\"Recall           : {recall_dt:.4f}\")\n",
        "print(f\"F1-Score         : {f1_dt:.4f}\")\n",
        "print(f\"Mean Squared Err : {mse_dt:.4f}\")\n",
        "print(\"Confusion Matrix:\\n\", conf_matrix_dt)\n"
      ],
      "metadata": {
        "colab": {
          "base_uri": "https://localhost:8080/"
        },
        "id": "fTxi8Zj18ewa",
        "outputId": "64fde72c-8e1e-42f3-dd36-872a9ae5a021"
      },
      "execution_count": 21,
      "outputs": [
        {
          "output_type": "stream",
          "name": "stdout",
          "text": [
            "\n",
            " Decision Tree Model Evaluation:\n",
            "Accuracy         : 0.7300\n",
            "Precision        : 0.2222\n",
            "Recall           : 0.2353\n",
            "F1-Score         : 0.2286\n",
            "Mean Squared Err : 0.2700\n",
            "Confusion Matrix:\n",
            " [[69 14]\n",
            " [13  4]]\n"
          ]
        }
      ]
    },
    {
      "cell_type": "markdown",
      "source": [],
      "metadata": {
        "id": "uoLrMQKZ7ZiV"
      }
    }
  ]
}